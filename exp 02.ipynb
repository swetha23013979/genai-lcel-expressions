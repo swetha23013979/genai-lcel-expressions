{
 "cells": [
  {
   "cell_type": "code",
   "execution_count": 1,
   "id": "c4e3521c",
   "metadata": {
    "height": 115
   },
   "outputs": [],
   "source": [
    "import os\n",
    "import openai\n",
    "\n",
    "from dotenv import load_dotenv, find_dotenv\n",
    "_ = load_dotenv(find_dotenv()) # read local .env file\n",
    "openai.api_key = os.environ['OPENAI_API_KEY']"
   ]
  },
  {
   "cell_type": "code",
   "execution_count": 2,
   "id": "1d2af143",
   "metadata": {
    "height": 64
   },
   "outputs": [],
   "source": [
    "from langchain.prompts import ChatPromptTemplate\n",
    "from langchain.chat_models import ChatOpenAI\n",
    "from langchain.schema.output_parser import StrOutputParser"
   ]
  },
  {
   "cell_type": "code",
   "execution_count": 15,
   "id": "8633230f",
   "metadata": {
    "height": 98
   },
   "outputs": [],
   "source": [
    "prompt = ChatPromptTemplate.from_template(\n",
    "    \"write {number} poems about {topic}\"\n",
    ")\n",
    "model = ChatOpenAI()\n",
    "output_parser = StrOutputParser()"
   ]
  },
  {
   "cell_type": "code",
   "execution_count": 16,
   "id": "c2f3f420",
   "metadata": {
    "height": 30
   },
   "outputs": [],
   "source": [
    "chain = prompt | model | output_parser"
   ]
  },
  {
   "cell_type": "code",
   "execution_count": 17,
   "id": "eae19ded",
   "metadata": {
    "height": 30
   },
   "outputs": [],
   "source": [
    "result = chain.invoke({\"number\": \"2\", \"topic\": \"nature\"})"
   ]
  },
  {
   "cell_type": "code",
   "execution_count": 18,
   "id": "2befed33",
   "metadata": {
    "height": 30
   },
   "outputs": [
    {
     "data": {
      "text/plain": [
       "\"1. \\n\\nIn the forests wild and free,\\nNature's beauty I can see.\\nTall trees reaching for the sky,\\nBirds soaring, singing high.\\n\\nThe gentle rustle of the leaves,\\nThe whisper of the breeze.\\nThe sun shining through the canopy,\\nNature's wonders never cease to amaze me.\\n\\nThe scent of flowers in the air,\\nThe sound of a distant bear.\\nNature's symphony all around,\\nIn this peaceful place, I am found.\\n\\nSo let me wander through the trees,\\nAnd feel the earth beneath my knees.\\nIn nature's embrace, I am whole,\\nConnected to the world, body and soul.\\n\\n2.\\n\\nThe ocean's waves crash against the shore,\\nA symphony of sound that I adore.\\nThe salty air, the seagulls cry,\\nNature's beauty never passes by.\\n\\nThe sun setting on the horizon,\\nPainting the sky with colors so vibrant.\\nThe water glistening in the light,\\nA breathtaking sight, pure and bright.\\n\\nThe sand beneath my feet, warm and soft,\\nA reminder of nature's love, never lost.\\nThe rhythm of the tide, ebbing and flowing,\\nA constant reminder of nature's knowing.\\n\\nSo let me walk along the beach,\\nAnd feel the sand between my toes reach.\\nIn nature's embrace, I find peace,\\nA connection to the world that will never cease.\""
      ]
     },
     "execution_count": 18,
     "metadata": {},
     "output_type": "execute_result"
    }
   ],
   "source": [
    "result"
   ]
  },
  {
   "cell_type": "code",
   "execution_count": 50,
   "id": "df710c07",
   "metadata": {
    "height": 47
   },
   "outputs": [],
   "source": [
    "from langchain.embeddings import OpenAIEmbeddings\n",
    "from langchain.vectorstores import DocArrayInMemorySearch"
   ]
  },
  {
   "cell_type": "code",
   "execution_count": 51,
   "id": "68a62704",
   "metadata": {
    "height": 113
   },
   "outputs": [],
   "source": [
    "vectorstore = DocArrayInMemorySearch.from_texts(\n",
    "    [\"John studies engineering\", \"John works three part-time jobs\", \"John watches TV shows in his free time\"],\n",
    "    embedding=OpenAIEmbeddings()\n",
    ")\n",
    "retriever = vectorstore.as_retriever()"
   ]
  },
  {
   "cell_type": "code",
   "execution_count": 52,
   "id": "ff801bf5",
   "metadata": {
    "height": 30
   },
   "outputs": [
    {
     "data": {
      "text/plain": [
       "[Document(page_content='John studies engineering'),\n",
       " Document(page_content='John works three part-time jobs'),\n",
       " Document(page_content='John watches TV shows in his free time')]"
      ]
     },
     "execution_count": 52,
     "metadata": {},
     "output_type": "execute_result"
    }
   ],
   "source": [
    "retriever.get_relevant_documents(\"what does John study?\")"
   ]
  },
  {
   "cell_type": "code",
   "execution_count": 53,
   "id": "797298b9",
   "metadata": {
    "height": 45
   },
   "outputs": [
    {
     "data": {
      "text/plain": [
       "[Document(page_content='John works three part-time jobs'),\n",
       " Document(page_content='John watches TV shows in his free time'),\n",
       " Document(page_content='John studies engineering')]"
      ]
     },
     "execution_count": 53,
     "metadata": {},
     "output_type": "execute_result"
    }
   ],
   "source": [
    "retriever.get_relevant_documents(\"How many part-time jobs does John work at?\")"
   ]
  },
  {
   "cell_type": "code",
   "execution_count": 54,
   "id": "aab564a3",
   "metadata": {
    "height": 115
   },
   "outputs": [],
   "source": [
    "template = \"\"\"Answer the question based only on the following context:\n",
    "{context}\n",
    "\n",
    "Question: {question}\n",
    "\"\"\"\n",
    "prompt = ChatPromptTemplate.from_template(template)"
   ]
  },
  {
   "cell_type": "code",
   "execution_count": 55,
   "id": "a1796ae5",
   "metadata": {
    "height": 30
   },
   "outputs": [],
   "source": [
    "from langchain.schema.runnable import RunnableMap"
   ]
  },
  {
   "cell_type": "code",
   "execution_count": 56,
   "id": "dfd16904",
   "metadata": {
    "height": 81
   },
   "outputs": [],
   "source": [
    "chain = RunnableMap({\n",
    "    \"context\": lambda x: retriever.get_relevant_documents(x[\"question\"]),\n",
    "    \"question\": lambda x: x[\"question\"]\n",
    "}) | prompt | model | output_parser"
   ]
  },
  {
   "cell_type": "code",
   "execution_count": 58,
   "id": "c95071e6",
   "metadata": {
    "height": 30
   },
   "outputs": [
    {
     "data": {
      "text/plain": [
       "'John works three part-time jobs.'"
      ]
     },
     "execution_count": 58,
     "metadata": {},
     "output_type": "execute_result"
    }
   ],
   "source": [
    "chain.invoke({\"question\": \"How many part-time jobs does John handle?\"})"
   ]
  },
  {
   "cell_type": "code",
   "execution_count": 42,
   "id": "f8e83e71",
   "metadata": {
    "height": 30
   },
   "outputs": [
    {
     "data": {
      "text/plain": [
       "'Watching TV shows in his free time'"
      ]
     },
     "execution_count": 42,
     "metadata": {},
     "output_type": "execute_result"
    }
   ],
   "source": [
    "chain.invoke({\"question\": \"What is John's hobby?\"})"
   ]
  },
  {
   "cell_type": "code",
   "execution_count": null,
   "id": "d8ce972e",
   "metadata": {
    "height": 30
   },
   "outputs": [],
   "source": []
  }
 ],
 "metadata": {
  "kernelspec": {
   "display_name": "Python 3 (ipykernel)",
   "language": "python",
   "name": "python3"
  },
  "language_info": {
   "codemirror_mode": {
    "name": "ipython",
    "version": 3
   },
   "file_extension": ".py",
   "mimetype": "text/x-python",
   "name": "python",
   "nbconvert_exporter": "python",
   "pygments_lexer": "ipython3",
   "version": "3.11.3"
  }
 },
 "nbformat": 4,
 "nbformat_minor": 5
}
